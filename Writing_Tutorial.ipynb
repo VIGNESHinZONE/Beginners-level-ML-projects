{
  "nbformat": 4,
  "nbformat_minor": 0,
  "metadata": {
    "colab": {
      "name": "Writing Tutorial.ipynb",
      "provenance": [],
      "authorship_tag": "ABX9TyOrZ2rJ+e1you1vZrkkDDWX",
      "include_colab_link": true
    },
    "kernelspec": {
      "name": "python3",
      "display_name": "Python 3"
    },
    "language_info": {
      "name": "python"
    }
  },
  "cells": [
    {
      "cell_type": "markdown",
      "metadata": {
        "id": "view-in-github",
        "colab_type": "text"
      },
      "source": [
        "<a href=\"https://colab.research.google.com/github/VIGNESHinZONE/Beginners-level-ML-projects/blob/master/Writing_Tutorial.ipynb\" target=\"_parent\"><img src=\"https://colab.research.google.com/assets/colab-badge.svg\" alt=\"Open In Colab\"/></a>"
      ]
    },
    {
      "cell_type": "code",
      "metadata": {
        "id": "Z6-eTC7ABoJk"
      },
      "source": [
        ""
      ],
      "execution_count": null,
      "outputs": []
    },
    {
      "cell_type": "markdown",
      "metadata": {
        "id": "QtfeQrPnBpLe"
      },
      "source": [
        "# Tutorial 33: Physics Informed Neural Networks using JaxModel & PINN_Model\n",
        "\n",
        "```\n",
        "use <s></s> to strike out tasks\n",
        "```\n",
        "- Write about PINNs and first blog\n",
        "- Write resouces for learning about for learning PINNs"
      ]
    },
    {
      "cell_type": "code",
      "metadata": {
        "id": "4tMq6f8JBzhN"
      },
      "source": [
        ""
      ],
      "execution_count": null,
      "outputs": []
    },
    {
      "cell_type": "markdown",
      "metadata": {
        "id": "YoZLoq3mB1HJ"
      },
      "source": [
        "# Setup\n",
        "- install using deepchem[jax]\n",
        "- download the datasets correctly, loaded on AWS"
      ]
    },
    {
      "cell_type": "code",
      "metadata": {
        "id": "XCW2ZqAxCnpc"
      },
      "source": [
        ""
      ],
      "execution_count": null,
      "outputs": []
    },
    {
      "cell_type": "markdown",
      "metadata": {
        "id": "781N6-jNCobR"
      },
      "source": [
        "# Brief about Jax and Autodiff\n",
        "\n",
        "- Mention the usage of jax and its functional style\n",
        "- Mention about the Autodiff cookbook from Jax\n",
        "- Asking them to take a look at Haiku and optax library\n",
        "- About the JaxModel and PINN_Model superclass\n"
      ]
    },
    {
      "cell_type": "code",
      "metadata": {
        "id": "opI6-oDhC-EL"
      },
      "source": [
        ""
      ],
      "execution_count": null,
      "outputs": []
    },
    {
      "cell_type": "markdown",
      "metadata": {
        "id": "A9aeJa8HC_e9"
      },
      "source": [
        "# Burgers Equation\n",
        "- The general mathematical equation\n",
        "- initial conditions\n",
        "- Miscellanous - Usage of Burgers Equation"
      ]
    },
    {
      "cell_type": "code",
      "metadata": {
        "id": "IotWbdX5DBQD"
      },
      "source": [
        ""
      ],
      "execution_count": null,
      "outputs": []
    },
    {
      "cell_type": "markdown",
      "metadata": {
        "id": "5naU_8Q7DMVE"
      },
      "source": [
        "# Data Visualisation of the Burgers Equation\n",
        "\n",
        "- show about the initial condition in Mathplotlib\n"
      ]
    },
    {
      "cell_type": "code",
      "metadata": {
        "id": "uIylzocPDQPN"
      },
      "source": [
        ""
      ],
      "execution_count": null,
      "outputs": []
    },
    {
      "cell_type": "markdown",
      "metadata": {
        "id": "ndR7ndNLDbiz"
      },
      "source": [
        "# Explanation of the solution\n",
        "\n",
        "- Describe that we are using NN for approximating the function\n",
        "- we fit the NN directly on the points we know\n",
        "- we use diffrential equation as a regulariser satisfying the equation\n",
        "- Explain the loss function\n",
        "  - exact loss\n",
        "  - diffrential loss\n",
        "\n"
      ]
    },
    {
      "cell_type": "code",
      "metadata": {
        "id": "SwTIEBChD87J"
      },
      "source": [
        ""
      ],
      "execution_count": null,
      "outputs": []
    },
    {
      "cell_type": "markdown",
      "metadata": {
        "id": "tDOgmtzmD9lp"
      },
      "source": [
        "# Usage of PINN Model\n",
        "\n",
        "- Explain that it requires two functions create eval function and model loss\n",
        "- And the code for solution\n",
        "- Defining the model using Haiku and Optax accordingly"
      ]
    },
    {
      "cell_type": "code",
      "metadata": {
        "id": "KOHKt00FEX1H"
      },
      "source": [
        ""
      ],
      "execution_count": null,
      "outputs": []
    },
    {
      "cell_type": "markdown",
      "metadata": {
        "id": "eJ2tq2dBEYcU"
      },
      "source": [
        "# Visualize the final results\n",
        "\n",
        "- Code taken from authors for visualisation\n",
        "- show both graphs"
      ]
    },
    {
      "cell_type": "code",
      "metadata": {
        "id": "Wir3ADrnEfBu"
      },
      "source": [
        ""
      ],
      "execution_count": null,
      "outputs": []
    }
  ]
}
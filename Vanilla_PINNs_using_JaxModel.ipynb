{
  "nbformat": 4,
  "nbformat_minor": 0,
  "metadata": {
    "colab": {
      "name": "Vanilla_PINNs_using_JaxModel.ipynb",
      "provenance": [],
      "collapsed_sections": [],
      "authorship_tag": "ABX9TyNQCUawi3gdU1qyPqLSuR/b",
      "include_colab_link": true
    },
    "kernelspec": {
      "name": "python3",
      "display_name": "Python 3"
    },
    "language_info": {
      "name": "python"
    }
  },
  "cells": [
    {
      "cell_type": "markdown",
      "metadata": {
        "id": "view-in-github",
        "colab_type": "text"
      },
      "source": [
        "<a href=\"https://colab.research.google.com/github/VIGNESHinZONE/Beginners-level-ML-projects/blob/master/Vanilla_PINNs_using_JaxModel.ipynb\" target=\"_parent\"><img src=\"https://colab.research.google.com/assets/colab-badge.svg\" alt=\"Open In Colab\"/></a>"
      ]
    },
    {
      "cell_type": "markdown",
      "metadata": {
        "id": "8TyBD_TfvRNa"
      },
      "source": [
        "In this notebook we will be adding a small tutorial of using PINNS with JaxModel"
      ]
    },
    {
      "cell_type": "code",
      "metadata": {
        "colab": {
          "base_uri": "https://localhost:8080/"
        },
        "id": "LxbOGZ1JvG8m",
        "outputId": "3b362812-f4c9-4483-ea97-001ff39fd066"
      },
      "source": [
        "!pip install --pre deepchem[jax]\n"
      ],
      "execution_count": 1,
      "outputs": [
        {
          "output_type": "stream",
          "text": [
            "Collecting deepchem[jax]\n",
            "  Downloading deepchem-2.6.0.dev20210721161151-py3-none-any.whl (582 kB)\n",
            "\u001b[K     |████████████████████████████████| 582 kB 4.8 MB/s \n",
            "\u001b[?25hRequirement already satisfied: numpy in /usr/local/lib/python3.7/dist-packages (from deepchem[jax]) (1.19.5)\n",
            "Requirement already satisfied: joblib in /usr/local/lib/python3.7/dist-packages (from deepchem[jax]) (1.0.1)\n",
            "Requirement already satisfied: scikit-learn in /usr/local/lib/python3.7/dist-packages (from deepchem[jax]) (0.22.2.post1)\n",
            "Requirement already satisfied: scipy in /usr/local/lib/python3.7/dist-packages (from deepchem[jax]) (1.4.1)\n",
            "Requirement already satisfied: pandas in /usr/local/lib/python3.7/dist-packages (from deepchem[jax]) (1.1.5)\n",
            "Collecting optax==0.0.8\n",
            "  Downloading optax-0.0.8-py3-none-any.whl (113 kB)\n",
            "\u001b[K     |████████████████████████████████| 113 kB 9.0 MB/s \n",
            "\u001b[?25hCollecting jaxlib==0.1.67\n",
            "  Downloading jaxlib-0.1.67-cp37-none-manylinux2010_x86_64.whl (45.3 MB)\n",
            "\u001b[K     |████████████████████████████████| 45.3 MB 3.8 kB/s \n",
            "\u001b[?25hCollecting dm-haiku==0.0.4\n",
            "  Downloading dm_haiku-0.0.4-py3-none-any.whl (284 kB)\n",
            "\u001b[K     |████████████████████████████████| 284 kB 43.4 MB/s \n",
            "\u001b[?25hCollecting jax==0.2.14\n",
            "  Downloading jax-0.2.14.tar.gz (669 kB)\n",
            "\u001b[K     |████████████████████████████████| 669 kB 44.9 MB/s \n",
            "\u001b[?25hRequirement already satisfied: tabulate>=0.8.9 in /usr/local/lib/python3.7/dist-packages (from dm-haiku==0.0.4->deepchem[jax]) (0.8.9)\n",
            "Requirement already satisfied: absl-py>=0.7.1 in /usr/local/lib/python3.7/dist-packages (from dm-haiku==0.0.4->deepchem[jax]) (0.12.0)\n",
            "Requirement already satisfied: typing-extensions in /usr/local/lib/python3.7/dist-packages (from dm-haiku==0.0.4->deepchem[jax]) (3.7.4.3)\n",
            "Requirement already satisfied: opt_einsum in /usr/local/lib/python3.7/dist-packages (from jax==0.2.14->deepchem[jax]) (3.3.0)\n",
            "Requirement already satisfied: flatbuffers<3.0,>=1.12 in /usr/local/lib/python3.7/dist-packages (from jaxlib==0.1.67->deepchem[jax]) (1.12)\n",
            "Collecting chex>=0.0.4\n",
            "  Downloading chex-0.0.8-py3-none-any.whl (57 kB)\n",
            "\u001b[K     |████████████████████████████████| 57 kB 5.1 MB/s \n",
            "\u001b[?25hRequirement already satisfied: six in /usr/local/lib/python3.7/dist-packages (from absl-py>=0.7.1->dm-haiku==0.0.4->deepchem[jax]) (1.15.0)\n",
            "Requirement already satisfied: dm-tree>=0.1.5 in /usr/local/lib/python3.7/dist-packages (from chex>=0.0.4->optax==0.0.8->deepchem[jax]) (0.1.6)\n",
            "Requirement already satisfied: toolz>=0.9.0 in /usr/local/lib/python3.7/dist-packages (from chex>=0.0.4->optax==0.0.8->deepchem[jax]) (0.11.1)\n",
            "Requirement already satisfied: pytz>=2017.2 in /usr/local/lib/python3.7/dist-packages (from pandas->deepchem[jax]) (2018.9)\n",
            "Requirement already satisfied: python-dateutil>=2.7.3 in /usr/local/lib/python3.7/dist-packages (from pandas->deepchem[jax]) (2.8.1)\n",
            "Building wheels for collected packages: jax\n",
            "  Building wheel for jax (setup.py) ... \u001b[?25l\u001b[?25hdone\n",
            "  Created wheel for jax: filename=jax-0.2.14-py3-none-any.whl size=771354 sha256=c6af8b4b13235c4a6f5d670bce5bf46ff8a68797ee30da82b9d563eaecb59114\n",
            "  Stored in directory: /root/.cache/pip/wheels/ec/bd/25/923906d87d262ee0be5c68b248d1a8249d028603582a256266\n",
            "Successfully built jax\n",
            "Installing collected packages: jaxlib, jax, chex, optax, dm-haiku, deepchem\n",
            "  Attempting uninstall: jaxlib\n",
            "    Found existing installation: jaxlib 0.1.69+cuda110\n",
            "    Uninstalling jaxlib-0.1.69+cuda110:\n",
            "      Successfully uninstalled jaxlib-0.1.69+cuda110\n",
            "  Attempting uninstall: jax\n",
            "    Found existing installation: jax 0.2.17\n",
            "    Uninstalling jax-0.2.17:\n",
            "      Successfully uninstalled jax-0.2.17\n",
            "Successfully installed chex-0.0.8 deepchem-2.6.0.dev20210721161151 dm-haiku-0.0.4 jax-0.2.14 jaxlib-0.1.67 optax-0.0.8\n"
          ],
          "name": "stdout"
        }
      ]
    },
    {
      "cell_type": "code",
      "metadata": {
        "id": "5W-nPieyvd7U"
      },
      "source": [
        "from deepchem.models import JaxModel"
      ],
      "execution_count": 2,
      "outputs": []
    },
    {
      "cell_type": "code",
      "metadata": {
        "id": "dwUbM3ZRvjup"
      },
      "source": [
        "import deepchem as dc\n",
        "import numpy as np\n",
        "\n",
        "n_data_points = 10\n",
        "n_features = 2\n",
        "np.random.seed(1234)\n",
        "X = np.random.rand(n_data_points, n_features)\n",
        "y = (X[:, 0] > X[:, 1]).astype(np.float32)\n",
        "dataset = dc.data.NumpyDataset(X, np.expand_dims(y, axis=1))\n"
      ],
      "execution_count": 4,
      "outputs": []
    },
    {
      "cell_type": "code",
      "metadata": {
        "id": "ONx-8KNIwW7B"
      },
      "source": [
        ""
      ],
      "execution_count": null,
      "outputs": []
    }
  ]
}